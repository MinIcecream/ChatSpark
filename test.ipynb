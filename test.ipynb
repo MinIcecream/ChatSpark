{
 "cells": [
  {
   "cell_type": "code",
   "execution_count": 3,
   "id": "c8f651de-7f64-456b-9417-7ed914a5dc53",
   "metadata": {},
   "outputs": [
    {
     "name": "stdout",
     "output_type": "stream",
     "text": [
      "hwlo world\n"
     ]
    }
   ],
   "source": [
    "print(\"hwlo world\")"
   ]
  },
  {
   "cell_type": "markdown",
   "id": "cfcbcfe7-2942-4d72-8124-7fcfc34f77d9",
   "metadata": {},
   "source": [
    "<h1>HI</h1>"
   ]
  },
  {
   "cell_type": "code",
   "execution_count": 2,
   "id": "593eb80d-cb08-417e-bc95-94b899c871c4",
   "metadata": {},
   "outputs": [
    {
     "name": "stdout",
     "output_type": "stream",
     "text": [
      "The autoreload extension is already loaded. To reload it, use:\n",
      "  %reload_ext autoreload\n"
     ]
    },
    {
     "name": "stderr",
     "output_type": "stream",
     "text": [
      "/var/folders/2d/4ff2g8sn4xg2s_p72v_bmt880000gn/T/ipykernel_2489/1621053659.py:17: RuntimeWarning: coroutine 'callback' was never awaited\n",
      "  callback(i)\n",
      "RuntimeWarning: Enable tracemalloc to get the object allocation traceback\n"
     ]
    },
    {
     "ename": "KeyboardInterrupt",
     "evalue": "",
     "output_type": "error",
     "traceback": [
      "\u001b[0;31m---------------------------------------------------------------------------\u001b[0m",
      "\u001b[0;31mKeyboardInterrupt\u001b[0m                         Traceback (most recent call last)",
      "Cell \u001b[0;32mIn[2], line 30\u001b[0m\n\u001b[1;32m     27\u001b[0m   message\u001b[38;5;241m=\u001b[39mgenerateResponse(messages)\n\u001b[1;32m     28\u001b[0m   \u001b[38;5;28mprint\u001b[39m(message)\n\u001b[0;32m---> 30\u001b[0m \u001b[43mmain\u001b[49m\u001b[43m(\u001b[49m\u001b[43m)\u001b[49m\n",
      "Cell \u001b[0;32mIn[2], line 18\u001b[0m, in \u001b[0;36mmain\u001b[0;34m()\u001b[0m\n\u001b[1;32m     16\u001b[0m \u001b[38;5;28;01mwhile\u001b[39;00m \u001b[38;5;28;01mTrue\u001b[39;00m:\n\u001b[1;32m     17\u001b[0m   callback(i)\n\u001b[0;32m---> 18\u001b[0m   \u001b[43mtime\u001b[49m\u001b[38;5;241;43m.\u001b[39;49m\u001b[43msleep\u001b[49m\u001b[43m(\u001b[49m\u001b[38;5;241;43m5\u001b[39;49m\u001b[43m)\u001b[49m \n\u001b[1;32m     19\u001b[0m   i\u001b[38;5;241m+\u001b[39m\u001b[38;5;241m=\u001b[39m\u001b[38;5;241m1\u001b[39m\n",
      "\u001b[0;31mKeyboardInterrupt\u001b[0m: "
     ]
    }
   ],
   "source": [
    "from chatbot import generateResponse\n",
    "import time\n",
    "import asyncio\n",
    "\n",
    "%load_ext autoreload\n",
    "%autoreload 2\n",
    "messages=[\n",
    "    {\"role\": \"system\", \"content\": \"Return a conversation starter based on the messages you're given. Only return the conversation starter. Make it relevent to the conversation.\"},\n",
    "    {\"role\": \"user\", \"content\": \"User 2: I love dogs.\"},\n",
    "    {\"role\": \"user\", \"content\": \"User 1: me too!\"}\n",
    "  ] \n",
    " \n",
    "\n",
    "def main():\n",
    "  i=1\n",
    "  while True:\n",
    "    callback(i)\n",
    "    time.sleep(5) \n",
    "    i+=1\n",
    "\n",
    "async def callback(i):\n",
    "  print(\"call: \"+str(i))\n",
    "  await (APICall(i))\n",
    "    \n",
    "async def APICall(i): \n",
    "  print(\"waiting for API: \"+str(i))\n",
    "  message=generateResponse(messages)\n",
    "  print(message)\n",
    "\n",
    "main()"
   ]
  },
  {
   "cell_type": "code",
   "execution_count": null,
   "id": "8fcbd9f5-ae7e-4c34-a370-4ff502dc61a6",
   "metadata": {},
   "outputs": [],
   "source": []
  },
  {
   "cell_type": "code",
   "execution_count": null,
   "id": "8dfe61d0-e729-480d-9170-2a1b7f1d429a",
   "metadata": {},
   "outputs": [],
   "source": []
  }
 ],
 "metadata": {
  "kernelspec": {
   "display_name": "Python 3 (ipykernel)",
   "language": "python",
   "name": "python3"
  },
  "language_info": {
   "codemirror_mode": {
    "name": "ipython",
    "version": 3
   },
   "file_extension": ".py",
   "mimetype": "text/x-python",
   "name": "python",
   "nbconvert_exporter": "python",
   "pygments_lexer": "ipython3",
   "version": "3.9.5"
  }
 },
 "nbformat": 4,
 "nbformat_minor": 5
}
