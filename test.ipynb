{
 "cells": [
  {
   "cell_type": "code",
   "execution_count": 3,
   "id": "c8f651de-7f64-456b-9417-7ed914a5dc53",
   "metadata": {},
   "outputs": [
    {
     "name": "stdout",
     "output_type": "stream",
     "text": [
      "hwlo world\n"
     ]
    }
   ],
   "source": [
    "print(\"hwlo world\")"
   ]
  },
  {
   "cell_type": "markdown",
   "id": "cfcbcfe7-2942-4d72-8124-7fcfc34f77d9",
   "metadata": {},
   "source": [
    "<h1>HI</h1>"
   ]
  },
  {
   "cell_type": "code",
   "execution_count": null,
   "id": "593eb80d-cb08-417e-bc95-94b899c871c4",
   "metadata": {},
   "outputs": [],
   "source": [
    "from chatbot import generateResponse\n",
    "import time\n",
    "import asyncio\n",
    "\n",
    "%load_ext autoreload\n",
    "%autoreload 2\n",
    "messages=[\n",
    "    {\"role\": \"system\", \"content\": \"Return a conversation starter based on the messages you're given. Only return the conversation starter. Make it relevent to the conversation.\"},\n",
    "    {\"role\": \"user\", \"content\": \"User 2: I love dogs.\"},\n",
    "    {\"role\": \"user\", \"content\": \"User 1: me too!\"}\n",
    "  ] \n",
    " \n",
    "\n",
    "def main():\n",
    "  i=1\n",
    "  while True:\n",
    "    callback(i)\n",
    "    time.sleep(5) \n",
    "    i+=1\n",
    "\n",
    "def callback(i):\n",
    "  print(\"call: \"+str(i))\n",
    "  await (APICall(i))\n",
    "    \n",
    "async def APICall(i): \n",
    "  print(\"waiting for API: \"+str(i))\n",
    "  message=generateResponse(messages)\n",
    "  print(message)\n",
    "\n",
    "main()"
   ]
  },
  {
   "cell_type": "code",
   "execution_count": null,
   "id": "8fcbd9f5-ae7e-4c34-a370-4ff502dc61a6",
   "metadata": {},
   "outputs": [],
   "source": []
  },
  {
   "cell_type": "code",
   "execution_count": null,
   "id": "8dfe61d0-e729-480d-9170-2a1b7f1d429a",
   "metadata": {},
   "outputs": [],
   "source": []
  }
 ],
 "metadata": {
  "kernelspec": {
   "display_name": "Python 3 (ipykernel)",
   "language": "python",
   "name": "python3"
  },
  "language_info": {
   "codemirror_mode": {
    "name": "ipython",
    "version": 3
   },
   "file_extension": ".py",
   "mimetype": "text/x-python",
   "name": "python",
   "nbconvert_exporter": "python",
   "pygments_lexer": "ipython3",
   "version": "3.9.5"
  }
 },
 "nbformat": 4,
 "nbformat_minor": 5
}
